{
 "cells": [
  {
   "cell_type": "code",
   "execution_count": 84,
   "id": "44086e44-dca2-4de9-8bdb-eb95df20e9c8",
   "metadata": {},
   "outputs": [],
   "source": [
    "from collections import Counter\n",
    "from collections import defaultdict"
   ]
  },
  {
   "cell_type": "code",
   "execution_count": 128,
   "id": "889c3e11-7487-41a0-ba20-e0531f3200f3",
   "metadata": {},
   "outputs": [],
   "source": [
    "id_list = [\"con\", \"ryan\"]\n",
    "report = [\"ryan con\", \"ryan con\", \"ryan con\", \"ryan con\"]\n",
    "n = 3\n",
    "answer = []\n",
    "# 같은 사람이 같은 사람을 신고하는건 1번으로 "
   ]
  },
  {
   "cell_type": "code",
   "execution_count": 115,
   "id": "df97e90e-4379-4185-84cb-fd48e3dca109",
   "metadata": {},
   "outputs": [
    {
     "name": "stdout",
     "output_type": "stream",
     "text": [
      "defaultdict(<class 'list'>, {'ryan': ['con']})\n",
      "[]\n"
     ]
    },
    {
     "data": {
      "text/plain": [
       "[0, 0]"
      ]
     },
     "execution_count": 115,
     "metadata": {},
     "output_type": "execute_result"
    }
   ],
   "source": [
    "# Report 리스트를 dict로 만들기\n",
    "d = defaultdict(list)\n",
    "for per1, per2 in [tuple(pair.split(' ')) for pair in report]:\n",
    "    if per2 in d[per1]:\n",
    "        pass\n",
    "    else:\n",
    "        d[per1].append(per2)\n",
    "print(d)\n",
    "    \n",
    "# report 된 사람 찾기\n",
    "reported_dict = defaultdict(int)\n",
    "for elems in d.values():\n",
    "    for elem in elems:\n",
    "        reported_dict[elem] += 1\n",
    "reported_people = [k for k,v in reported_dict.items() if v>=n]\n",
    "print(reported_people)\n",
    "\n",
    "# final_dict에 Report 된 수 \n",
    "final_dict = defaultdict(int)\n",
    "for id in id_list:\n",
    "    for reported in reported_people:\n",
    "        if reported in d[id]:\n",
    "            final_dict[id] += 1\n",
    "    if id in final_dict.keys():\n",
    "        answer.append(final_dict[id])\n",
    "    else:\n",
    "        answer.append(0)\n",
    "answer"
   ]
  },
  {
   "cell_type": "code",
   "execution_count": 126,
   "id": "a7a091b3-f123-4640-90bb-7de901e2bd73",
   "metadata": {},
   "outputs": [],
   "source": [
    "id_list = [\"muzi\", \"frodo\", \"apeach\", \"neo\"]\n",
    "report = [\"muzi frodo\",\"apeach frodo\",\"frodo neo\",\"muzi neo\",\"apeach muzi\"]\n",
    "n = 2\n",
    "answer = []"
   ]
  },
  {
   "cell_type": "code",
   "execution_count": 129,
   "id": "00a9b7fb-223d-4317-9221-883524de1fde",
   "metadata": {},
   "outputs": [
    {
     "name": "stdout",
     "output_type": "stream",
     "text": [
      "defaultdict(<class 'list'>, {'ryan': ['con']})\n",
      "[]\n"
     ]
    },
    {
     "data": {
      "text/plain": [
       "[0, 0]"
      ]
     },
     "execution_count": 129,
     "metadata": {},
     "output_type": "execute_result"
    }
   ],
   "source": [
    "# Report 리스트를 dict로 만들기\n",
    "d = defaultdict(list)\n",
    "report_set = list(set(report))\n",
    "for per1, per2 in [tuple(pair.split(' ')) for pair in report_set]:\n",
    "    d[per1].append(per2)\n",
    "print(d)\n",
    "    \n",
    "# report 된 사람 찾기\n",
    "reported_dict = defaultdict(int)\n",
    "for elems in d.values():\n",
    "    for elem in elems:\n",
    "        reported_dict[elem] += 1\n",
    "reported_people = [k for k,v in reported_dict.items() if v>=n]\n",
    "print(reported_people)\n",
    "\n",
    "# final_dict에 Report 된 수 \n",
    "final_dict = defaultdict(int)\n",
    "for id in id_list:\n",
    "    for reported in reported_people:\n",
    "        if reported in d[id]:\n",
    "            final_dict[id] += 1\n",
    "    if id in final_dict.keys():\n",
    "        answer.append(final_dict[id])\n",
    "    else:\n",
    "        answer.append(0)\n",
    "answer"
   ]
  },
  {
   "cell_type": "code",
   "execution_count": 117,
   "id": "da3e69a6-e0f7-45b8-8b8d-7feb196b6148",
   "metadata": {},
   "outputs": [],
   "source": [
    "# 모범답안\n",
    "\n",
    "def solution(id_list, report, n):\n",
    "    answer = []\n",
    "    a = list(set(report))\n",
    "    dictionary2 = {name : 0 for name in id_list}\n",
    "    dictionary = {name : [] for name in id_list}\n",
    "    for i in a:\n",
    "        dictionary[i.split()[1]].append(i.split()[0])\n",
    "    for i in dictionary:\n",
    "        if len(dictionary[i]) >= n:\n",
    "            for j in dictionary[i]:\n",
    "                dictionary2[j] += 1\n",
    "\n",
    "    for i in dictionary2:\n",
    "        answer.append(dictionary2[i])\n",
    "\n",
    "    return answer"
   ]
  },
  {
   "cell_type": "code",
   "execution_count": null,
   "id": "6667b853-e778-471d-a087-6de4f36ad6af",
   "metadata": {},
   "outputs": [],
   "source": []
  }
 ],
 "metadata": {
  "kernelspec": {
   "display_name": "Python 3",
   "language": "python",
   "name": "python3"
  },
  "language_info": {
   "codemirror_mode": {
    "name": "ipython",
    "version": 3
   },
   "file_extension": ".py",
   "mimetype": "text/x-python",
   "name": "python",
   "nbconvert_exporter": "python",
   "pygments_lexer": "ipython3",
   "version": "3.8.5"
  }
 },
 "nbformat": 4,
 "nbformat_minor": 5
}
