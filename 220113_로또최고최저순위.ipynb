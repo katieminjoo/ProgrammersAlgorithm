{
 "cells": [
  {
   "cell_type": "code",
   "execution_count": null,
   "metadata": {},
   "outputs": [],
   "source": [
    "# 1. lottos 와 win_nums의 같은 숫자가 몇개 있는지 확인하기\n",
    "# -> 이 일치하는 갯수가 worst 순위를 결정\n",
    "# 2. lottos 에서 1의 일치하는 갯수를 뺀 숫자 == 0의 갯수\n",
    "# 1의 일치하는 갯수 + 0의 갯수 를 더한것이 best 순위 결정\n",
    "\n",
    "def solution(lottos, win_nums):\n",
    "    rank_dic = {0:6, 1:6, 2:5, 3:4, 4:3, 5:2, 6:1}\n",
    "    corresponding = list(set(lottos).intersection(win_nums))\n",
    "    worst = rank_dic[len(corresponding)]\n",
    "    best = rank_dic[len(corresponding) + lottos.count(0)]\n",
    "    answer = [best, worst]\n",
    "    return answer"
   ]
  }
 ],
 "metadata": {
  "language_info": {
   "name": "python"
  },
  "orig_nbformat": 4
 },
 "nbformat": 4,
 "nbformat_minor": 2
}
