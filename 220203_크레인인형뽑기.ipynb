{
 "cells": [
  {
   "cell_type": "code",
   "execution_count": 1,
   "id": "0f83e685-4073-4963-90ee-1e5aa4620eda",
   "metadata": {},
   "outputs": [],
   "source": [
    "import numpy as np"
   ]
  },
  {
   "cell_type": "code",
   "execution_count": 1,
   "id": "5d6e6239-1279-42ed-82db-3c949c3328f0",
   "metadata": {},
   "outputs": [],
   "source": [
    "board = [[0,0,0,0,0],[0,0,1,0,3],[0,2,5,0,1],[4,2,4,4,2],[3,5,1,3,1]]\n",
    "moves = [1,5,3,5,1,2,1,4]\n",
    "\n",
    "# result = 4\n",
    "\n",
    "# 0 0 0 0 0\n",
    "# 0 0 1 0 3\n",
    "# 0 2 5 0 1\n",
    "# 4 2 4 4 2\n",
    "# 3 5 1 3 1\n",
    "\n",
    "# 15351214\n",
    "\n",
    "# 4 3 1 1 3 2 0 4\n",
    "# '3113' 사라지고\n",
    "# 4 2 4 가 남음\n",
    "\n",
    "# so result = 사라진인형의개수 which is 4"
   ]
  },
  {
   "cell_type": "code",
   "execution_count": 35,
   "id": "6df447ea-9682-496d-bda0-779a4e818c12",
   "metadata": {
    "tags": []
   },
   "outputs": [],
   "source": [
    "# moves의 첫원소 1 을 부르면, board_t[0]이 나오고 거기서 0이아닌 첫숫자를 뽑아서 result 리스트에 넣어. 그리고 그 뽑힌 숫자 부분을 0으로 board_t[0] 자체를 바꾸고,\n",
    "# "
   ]
  },
  {
   "cell_type": "code",
   "execution_count": 142,
   "id": "7f7b39a9-9665-450b-8a55-f2d48934f1ce",
   "metadata": {
    "collapsed": true,
    "jupyter": {
     "outputs_hidden": true
    },
    "tags": []
   },
   "outputs": [
    {
     "ename": "NameError",
     "evalue": "name 'num' is not defined",
     "output_type": "error",
     "traceback": [
      "\u001b[0;31m\u001b[0m",
      "\u001b[0;31mNameError\u001b[0mTraceback (most recent call last)",
      "\u001b[0;32m<ipython-input-142-e8a6bdd26a17>\u001b[0m in \u001b[0;36m<module>\u001b[0;34m\u001b[0m\n\u001b[0;32m----> 1\u001b[0;31m \u001b[0mboard\u001b[0m \u001b[0;34m=\u001b[0m \u001b[0mnp\u001b[0m\u001b[0;34m.\u001b[0m\u001b[0mrandom\u001b[0m\u001b[0;34m.\u001b[0m\u001b[0mrandint\u001b[0m\u001b[0;34m(\u001b[0m\u001b[0;36m100\u001b[0m\u001b[0;34m,\u001b[0m \u001b[0msize\u001b[0m \u001b[0;34m=\u001b[0m \u001b[0;34m(\u001b[0m\u001b[0mnum\u001b[0m\u001b[0;34m,\u001b[0m \u001b[0mnum\u001b[0m\u001b[0;34m)\u001b[0m\u001b[0;34m)\u001b[0m\u001b[0;34m\u001b[0m\u001b[0;34m\u001b[0m\u001b[0m\n\u001b[0m\u001b[1;32m      2\u001b[0m \u001b[0;31m# num 에는 5 ~ 30\u001b[0m\u001b[0;34m\u001b[0m\u001b[0;34m\u001b[0m\u001b[0;34m\u001b[0m\u001b[0m\n\u001b[1;32m      3\u001b[0m \u001b[0;31m# means 100보다 작은 수들이 num*num 만큼 들어있음\u001b[0m\u001b[0;34m\u001b[0m\u001b[0;34m\u001b[0m\u001b[0;34m\u001b[0m\u001b[0m\n\u001b[1;32m      4\u001b[0m \u001b[0;34m\u001b[0m\u001b[0m\n\u001b[1;32m      5\u001b[0m \u001b[0mmoves\u001b[0m \u001b[0;34m=\u001b[0m \u001b[0mnp\u001b[0m\u001b[0;34m.\u001b[0m\u001b[0mrandom\u001b[0m\u001b[0;34m.\u001b[0m\u001b[0mrandint\u001b[0m\u001b[0;34m(\u001b[0m\u001b[0mnum\u001b[0m\u001b[0;34m,\u001b[0m \u001b[0msize\u001b[0m \u001b[0;34m=\u001b[0m \u001b[0mnum2\u001b[0m\u001b[0;34m)\u001b[0m\u001b[0;34m\u001b[0m\u001b[0;34m\u001b[0m\u001b[0m\n",
      "\u001b[0;31mNameError\u001b[0m: name 'num' is not defined"
     ]
    }
   ],
   "source": [
    "board = np.random.randint(100, size = (num, num))\n",
    "# num 에는 5 ~ 30 \n",
    "# means 100보다 작은 수들이 num*num 만큼 들어있음\n",
    "\n",
    "moves = np.random.randint(num, size = num2)"
   ]
  },
  {
   "cell_type": "code",
   "execution_count": 3,
   "id": "287750e0-6161-4022-af27-676c4c0209cb",
   "metadata": {},
   "outputs": [],
   "source": [
    "import numpy as np"
   ]
  },
  {
   "cell_type": "code",
   "execution_count": 4,
   "id": "bbc5355e-7416-432c-80db-fd16695833dd",
   "metadata": {},
   "outputs": [],
   "source": [
    "result = []\n",
    "board_t = np.array(board).T\n",
    "for move in moves:\n",
    "    floor = list(board_t[move-1])\n",
    "    for elem in floor:\n",
    "        if elem!= 0:\n",
    "            nonzero_val = elem\n",
    "            result.append(nonzero_val)\n",
    "            floor[floor.index(nonzero_val)] = 0\n",
    "            break\n",
    "    board_t[move-1] = floor"
   ]
  },
  {
   "cell_type": "code",
   "execution_count": 135,
   "id": "2385eef0-fe03-4055-a440-e8961fff998c",
   "metadata": {},
   "outputs": [
    {
     "data": {
      "text/plain": [
       "array([[0, 0, 0, 0, 0],\n",
       "       [0, 0, 0, 2, 5],\n",
       "       [0, 0, 5, 4, 1],\n",
       "       [0, 0, 0, 0, 3],\n",
       "       [0, 0, 0, 2, 1]])"
      ]
     },
     "execution_count": 135,
     "metadata": {},
     "output_type": "execute_result"
    }
   ],
   "source": [
    "# 다 뽑힌 array 결과물\n",
    "board_t"
   ]
  },
  {
   "cell_type": "code",
   "execution_count": 5,
   "id": "c97dde5c-1185-49e3-981d-5bccd01dff74",
   "metadata": {},
   "outputs": [],
   "source": [
    "# 뽑힌 인형\n",
    "result\n",
    "result_a = result.copy()"
   ]
  },
  {
   "cell_type": "markdown",
   "id": "923c0b77-4483-49e4-8d3d-6965960753ca",
   "metadata": {
    "jupyter": {
     "outputs_hidden": true
    },
    "tags": []
   },
   "source": [
    "result 를 주욱 보면서 같은 요소 두개가 옆에 나란히 있으면 빼.\n",
    "그리고 나서 다시 첨부터 주욱봐. 같은요소가 옆에 있으면 두개빼."
   ]
  },
  {
   "cell_type": "code",
   "execution_count": 6,
   "id": "8d4f63c7-f998-46ea-8615-a760ab0af7d6",
   "metadata": {},
   "outputs": [],
   "source": [
    "i = 0\n",
    "while i < len(result)-1:\n",
    "    if result[i] == result[i+1]:\n",
    "        result.pop(i)\n",
    "        result.pop(i)\n",
    "        result = result\n",
    "        i = -1  \n",
    "    i+=1"
   ]
  },
  {
   "cell_type": "code",
   "execution_count": 7,
   "id": "5fc96f56-3d0f-4382-a76b-0b2df975868a",
   "metadata": {},
   "outputs": [],
   "source": [
    "result_b = result.copy()"
   ]
  },
  {
   "cell_type": "code",
   "execution_count": 8,
   "id": "f85844a0-a81e-4381-aac4-0d57cc0649e9",
   "metadata": {},
   "outputs": [
    {
     "data": {
      "text/plain": [
       "[4, 3, 1, 1, 3, 2, 4]"
      ]
     },
     "execution_count": 8,
     "metadata": {},
     "output_type": "execute_result"
    }
   ],
   "source": [
    "result_a"
   ]
  },
  {
   "cell_type": "code",
   "execution_count": 9,
   "id": "3d5df908-e17b-4783-a3ac-27f70de77400",
   "metadata": {},
   "outputs": [
    {
     "data": {
      "text/plain": [
       "[4, 2, 4]"
      ]
     },
     "execution_count": 9,
     "metadata": {},
     "output_type": "execute_result"
    }
   ],
   "source": [
    "result_b"
   ]
  },
  {
   "cell_type": "code",
   "execution_count": 10,
   "id": "70106041-fc4e-40ca-86ef-abd2806aefc9",
   "metadata": {},
   "outputs": [],
   "source": [
    "fin = len(result_a) - len(result_b)"
   ]
  },
  {
   "cell_type": "code",
   "execution_count": 11,
   "id": "81ec6cbd-1894-4d32-8c45-d429d6763604",
   "metadata": {},
   "outputs": [
    {
     "data": {
      "text/plain": [
       "4"
      ]
     },
     "execution_count": 11,
     "metadata": {},
     "output_type": "execute_result"
    }
   ],
   "source": [
    "fin"
   ]
  },
  {
   "cell_type": "code",
   "execution_count": null,
   "id": "58261d60-619f-4c17-bca2-f701ed9e4430",
   "metadata": {},
   "outputs": [],
   "source": []
  },
  {
   "cell_type": "code",
   "execution_count": 23,
   "id": "b929b3b0-422a-4873-a741-f28cf649fc74",
   "metadata": {
    "collapsed": true,
    "jupyter": {
     "outputs_hidden": true
    },
    "tags": []
   },
   "outputs": [
    {
     "ename": "NameError",
     "evalue": "name 'num' is not defined",
     "output_type": "error",
     "traceback": [
      "\u001b[0;31m\u001b[0m",
      "\u001b[0;31mNameError\u001b[0mTraceback (most recent call last)",
      "\u001b[0;32m<ipython-input-23-389205527af5>\u001b[0m in \u001b[0;36m<module>\u001b[0;34m\u001b[0m\n\u001b[0;32m----> 1\u001b[0;31m \u001b[0mboard\u001b[0m \u001b[0;34m=\u001b[0m \u001b[0mnp\u001b[0m\u001b[0;34m.\u001b[0m\u001b[0mrandom\u001b[0m\u001b[0;34m.\u001b[0m\u001b[0mrandint\u001b[0m\u001b[0;34m(\u001b[0m\u001b[0;36m100\u001b[0m\u001b[0;34m,\u001b[0m \u001b[0msize\u001b[0m \u001b[0;34m=\u001b[0m \u001b[0;34m(\u001b[0m\u001b[0mnum\u001b[0m\u001b[0;34m,\u001b[0m \u001b[0mnum\u001b[0m\u001b[0;34m)\u001b[0m\u001b[0;34m)\u001b[0m\u001b[0;34m\u001b[0m\u001b[0;34m\u001b[0m\u001b[0m\n\u001b[0m\u001b[1;32m      2\u001b[0m \u001b[0;31m# num 에는 5 ~ 30\u001b[0m\u001b[0;34m\u001b[0m\u001b[0;34m\u001b[0m\u001b[0;34m\u001b[0m\u001b[0m\n\u001b[1;32m      3\u001b[0m \u001b[0;31m# means 100보다 작은 수들이 num*num 만큼 들어있음\u001b[0m\u001b[0;34m\u001b[0m\u001b[0;34m\u001b[0m\u001b[0;34m\u001b[0m\u001b[0m\n\u001b[1;32m      4\u001b[0m \u001b[0;34m\u001b[0m\u001b[0m\n\u001b[1;32m      5\u001b[0m \u001b[0mmoves\u001b[0m \u001b[0;34m=\u001b[0m \u001b[0mnp\u001b[0m\u001b[0;34m.\u001b[0m\u001b[0mrandom\u001b[0m\u001b[0;34m.\u001b[0m\u001b[0mrandint\u001b[0m\u001b[0;34m(\u001b[0m\u001b[0mnum\u001b[0m\u001b[0;34m,\u001b[0m \u001b[0msize\u001b[0m \u001b[0;34m=\u001b[0m \u001b[0mnum2\u001b[0m\u001b[0;34m)\u001b[0m\u001b[0;34m\u001b[0m\u001b[0;34m\u001b[0m\u001b[0m\n",
      "\u001b[0;31mNameError\u001b[0m: name 'num' is not defined"
     ]
    }
   ],
   "source": [
    "board = np.random.randint(100, size = (num, num))\n",
    "# num 에는 5 ~ 30 \n",
    "# means 100보다 작은 수들이 num*num 만큼 들어있음\n",
    "\n",
    "moves = np.random.randint(num, size = num2)\n",
    "# num2에는 moves 배열의 크기 (1~1000)\n",
    "# means num 보다 작은 숫자들이 size 만큼 들어있음\n",
    "\n",
    "# 이렇게하면 세로 줄이 나오고\n",
    "\n",
    "# 여기서 0이 아닌 첫번째 원소를 Pop or 0으로 변경\n"
   ]
  },
  {
   "cell_type": "code",
   "execution_count": null,
   "id": "501fa810-ca53-45f9-b172-eb3b771f195d",
   "metadata": {},
   "outputs": [],
   "source": [
    "board 배열은 2차원 배열로 크기는 \"5 x 5\" 이상 \"30 x 30\" 이하입니다.\n",
    "board의 각 칸에는 0 이상 100 이하인 정수가 담겨있습니다.\n",
    "0은 빈 칸을 나타냅니다.\n",
    "1 ~ 100의 각 숫자는 각기 다른 인형의 모양을 의미하며 같은 숫자는 같은 모양의 인형을 나타냅니다.\n",
    "moves 배열의 크기는 1 이상 1000 이하입니다.\n",
    "moves 배열 각 원소들의 값은 1 이상이며 board 배열의 가로 크기 이하인 자연수입니다."
   ]
  },
  {
   "cell_type": "code",
   "execution_count": 143,
   "id": "538cf97c-c5a9-42c7-9120-82a28756708d",
   "metadata": {},
   "outputs": [],
   "source": [
    "num = 10\n",
    "num2 = 10"
   ]
  },
  {
   "cell_type": "code",
   "execution_count": 144,
   "id": "53fdd4ea-185e-49a4-8b9a-7b781bf97984",
   "metadata": {},
   "outputs": [],
   "source": [
    "board = np.random.randint(100, size = (num, num))\n",
    "# num 에는 5 ~ 30 \n",
    "# means 100보다 작은 수들이 num*num 만큼 들어있음\n",
    "\n",
    "moves = np.random.randint(num, size = num2)\n",
    "# num2에는 moves 배열의 크기 (1~1000)\n",
    "# means num 보다 작은 숫자들이 size 만큼 들어있음"
   ]
  },
  {
   "cell_type": "code",
   "execution_count": null,
   "id": "32f5046a-1ec0-43c0-95aa-2ccc86e1672c",
   "metadata": {},
   "outputs": [],
   "source": []
  },
  {
   "cell_type": "code",
   "execution_count": 12,
   "id": "9370b3f6-d358-4065-a883-ea113125250b",
   "metadata": {},
   "outputs": [],
   "source": [
    "import numpy as np\n",
    "def solution(board, moves):\n",
    "    result = []\n",
    "    board_t = np.array(board).T\n",
    "    for move in moves:\n",
    "        floor = list(board_t[move-1])\n",
    "        for elem in floor:\n",
    "            if elem!= 0:\n",
    "                nonzero_val = elem\n",
    "                result.append(nonzero_val)\n",
    "                floor[floor.index(nonzero_val)] = 0\n",
    "                break\n",
    "        board_t[move-1] = floor\n",
    "\n",
    "    result_a = result.copy()\n",
    "    i = 0\n",
    "    while i < len(result)-1:\n",
    "        if result[i] == result[i+1]:\n",
    "            result.pop(i)\n",
    "            result.pop(i)\n",
    "            result = result\n",
    "            i = -1  \n",
    "        i+=1\n",
    "    result_b = result.copy()\n",
    "    answer = len(result_a) - len(result_b)\n",
    "\n",
    "    return answer"
   ]
  },
  {
   "cell_type": "code",
   "execution_count": 12,
   "id": "9bc01005-e4f7-41b9-bc72-4ce0c932d682",
   "metadata": {},
   "outputs": [],
   "source": [
    "import numpy as np\n",
    "def solution(board, moves):\n",
    "    answer = 0\n",
    "    result = []\n",
    "    board_t = np.array(board).T\n",
    "    for move in moves:\n",
    "        floor = list(board_t[move-1])\n",
    "        for elem in floor:\n",
    "            if elem!= 0:\n",
    "                nonzero_val = elem\n",
    "                result.append(nonzero_val)\n",
    "                floor[floor.index(nonzero_val)] = 0\n",
    "                break\n",
    "        board_t[move-1] = floor\n",
    "\n",
    "    i = 0\n",
    "    while i < len(result)-1:\n",
    "        if result[i] == result[i+1]:\n",
    "            result.pop(i)\n",
    "            result.pop(i)\n",
    "            answer += 2\n",
    "            result = result\n",
    "            i = -1  \n",
    "        i+=1\n",
    "\n",
    "    return answer"
   ]
  },
  {
   "cell_type": "code",
   "execution_count": 13,
   "id": "3b0f8404-c831-4dad-b16f-1d7ea8d24241",
   "metadata": {},
   "outputs": [
    {
     "data": {
      "text/plain": [
       "4"
      ]
     },
     "execution_count": 13,
     "metadata": {},
     "output_type": "execute_result"
    }
   ],
   "source": [
    "solution([[0, 0, 0, 0, 0], [0, 0, 1, 0, 3], [0, 2, 5, 0, 1], [4, 2, 4, 4, 2], [3, 5, 1, 3, 1]], [1, 5, 3, 5, 1, 2, 1, 4])"
   ]
  },
  {
   "cell_type": "code",
   "execution_count": 32,
   "id": "2c175b7d-ec1b-4be5-9490-10a6eb581743",
   "metadata": {},
   "outputs": [],
   "source": [
    "board = [[0,0,0,0,0],[0,0,1,0,3],[0,2,5,0,1],[4,2,4,4,2],[3,5,1,3,1]]\n",
    "moves = [1,5,3,5,1,2,1,4]"
   ]
  },
  {
   "cell_type": "code",
   "execution_count": 33,
   "id": "89baf171-5340-4e4b-b488-663770b13156",
   "metadata": {},
   "outputs": [],
   "source": [
    "stacklist = []\n",
    "answer = 0"
   ]
  },
  {
   "cell_type": "code",
   "execution_count": 34,
   "id": "8690543a-f85b-497c-8ac2-ac1aa0fd6016",
   "metadata": {},
   "outputs": [
    {
     "name": "stdout",
     "output_type": "stream",
     "text": [
      "4\n",
      "3\n",
      "1\n",
      "1\n",
      "3\n",
      "2\n",
      "4\n"
     ]
    }
   ],
   "source": [
    "for i in moves:\n",
    "    for j in range(len(board)):\n",
    "        if board[j][i-1] != 0:\n",
    "            print(board[j][i-1])\n",
    "            stacklist.append(board[j][i-1])\n",
    "            board[j][i-1] = 0\n",
    "            break\n",
    "            \n",
    "        if len(stacklist) > 1:\n",
    "            if stacklist[-1] == stacklist[-2] :\n",
    "                stacklist.pop()\n",
    "                stacklist.pop()\n",
    "                answer += 2"
   ]
  },
  {
   "cell_type": "code",
   "execution_count": 35,
   "id": "c89dd4c0-f30c-4a2c-9b4e-0599ad6b5515",
   "metadata": {},
   "outputs": [
    {
     "data": {
      "text/plain": [
       "4"
      ]
     },
     "execution_count": 35,
     "metadata": {},
     "output_type": "execute_result"
    }
   ],
   "source": [
    "answer"
   ]
  },
  {
   "cell_type": "code",
   "execution_count": null,
   "id": "f1a21b97-f503-442d-b44b-8d6c14359729",
   "metadata": {},
   "outputs": [],
   "source": []
  }
 ],
 "metadata": {
  "kernelspec": {
   "display_name": "Python 3",
   "language": "python",
   "name": "python3"
  },
  "language_info": {
   "codemirror_mode": {
    "name": "ipython",
    "version": 3
   },
   "file_extension": ".py",
   "mimetype": "text/x-python",
   "name": "python",
   "nbconvert_exporter": "python",
   "pygments_lexer": "ipython3",
   "version": "3.8.5"
  }
 },
 "nbformat": 4,
 "nbformat_minor": 5
}
