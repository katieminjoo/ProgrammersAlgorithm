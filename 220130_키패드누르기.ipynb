{
 "cells": [
  {
   "cell_type": "markdown",
   "id": "0e547d02",
   "metadata": {},
   "source": [
    "# 최종제출답안"
   ]
  },
  {
   "cell_type": "code",
   "execution_count": null,
   "id": "0eebd39e-9163-4748-96da-777dade17aed",
   "metadata": {},
   "outputs": [],
   "source": [
    "def solution(numbers, hand):\n",
    "    \n",
    "    dist_dict = {1 : (0,1), 2 : (0,2), 3: (0,3), 4: (1,1), 5 : (1,2), 6:(1,3),7:(2,1),8:(2,2),9:(2,3),10:(3,1),11:(3,2),12:(3,3)}\n",
    "    def dist(present, target) :\n",
    "        return abs(present[0] - target[0]) + abs(present[1] - target[1])\n",
    "\n",
    "    L = (3,1)\n",
    "    R = (3,3)\n",
    "    final = ''\n",
    "\n",
    "    #0이 들어오면 11로 치환\n",
    "    numbers2 = [11 if num == 0 else num for num in numbers]\n",
    "    numbers3 = [dist_dict[num] for num in numbers2]\n",
    "\n",
    "    for num in numbers3 :\n",
    "        if num in [(0,1), (1,1), (2,1)] :\n",
    "            L = num\n",
    "            final += 'L'\n",
    "        elif num in [(0,3), (1,3), (2,3)] :\n",
    "            R = num\n",
    "            final += 'R'\n",
    "        #2580\n",
    "        else:\n",
    "            # 왼오 위치가 다를때\n",
    "            if dist(L,num) < dist(R,num):\n",
    "                L = num\n",
    "                final += 'L'\n",
    "            elif dist(L,num) > dist(R,num):\n",
    "                R = num\n",
    "                final += 'R'\n",
    "            # 왼오 위치가 누르려는 가운데열에서 동일하게 차이날때\n",
    "            elif dist(L,num) == dist(R,num):\n",
    "                if hand == 'left':\n",
    "                    L = num\n",
    "                    final += 'L'\n",
    "                else:\n",
    "                    R = num\n",
    "                    final += 'R'\n",
    "\n",
    "    return final"
   ]
  },
  {
   "cell_type": "markdown",
   "id": "35d968ba",
   "metadata": {},
   "source": [
    "### 연습"
   ]
  },
  {
   "cell_type": "code",
   "execution_count": null,
   "id": "b1f310c6-92c4-4641-acaa-8a9b1faf9cb9",
   "metadata": {},
   "outputs": [],
   "source": [
    "- 147 L\n",
    "- 369 R\n",
    "- 2580 가까운 엄지손가락, 만약 같다면 어떤손잡이인지에 따라!\n",
    "\n",
    "13458214595\n",
    "right\n",
    "\n",
    "L R L L L R L L R R L"
   ]
  },
  {
   "cell_type": "code",
   "execution_count": null,
   "id": "31bd52f5-74f2-45ff-aed8-4eb6305df5d7",
   "metadata": {},
   "outputs": [],
   "source": [
    "result = \"LRLLLRLLRRL\""
   ]
  },
  {
   "cell_type": "code",
   "execution_count": 31,
   "id": "0d065868-ad52-4ba4-b872-ae6e34d408b6",
   "metadata": {},
   "outputs": [],
   "source": [
    "numbers = [1, 3, 4, 5, 8, 2, 1, 4, 5, 9, 5]\n",
    "hand = 'right'"
   ]
  },
  {
   "cell_type": "code",
   "execution_count": 33,
   "id": "000321eb-d6c4-4cd4-921d-ff0992fefafa",
   "metadata": {},
   "outputs": [],
   "source": [
    "numbers = [1, 2, 3, 4, 5, 6, 7, 8, 9, 0]\n",
    "hand = 'right'"
   ]
  },
  {
   "cell_type": "code",
   "execution_count": 35,
   "id": "25fca302-d12f-4a2a-8f93-0047491a58db",
   "metadata": {},
   "outputs": [],
   "source": [
    "numbers = [7, 0, 8, 2, 8, 3, 1, 5, 7, 6, 2]\n",
    "hand = 'left'"
   ]
  },
  {
   "cell_type": "code",
   "execution_count": 36,
   "id": "ff9e8317-5237-42f4-88a7-94052c145ce0",
   "metadata": {},
   "outputs": [
    {
     "name": "stdout",
     "output_type": "stream",
     "text": [
      "initial nums of L : (3, 1), R : (3, 3)\n",
      "num : (2, 1), L : (2, 1), R : (3, 3)\n",
      "num : (3, 2), L : (2, 1), R : (3, 2)\n",
      "num : (2, 2), L : (2, 2), R : (3, 2)\n",
      "num : (0, 2), L : (0, 2), R : (3, 2)\n",
      "num : (2, 2), L : (0, 2), R : (2, 2)\n",
      "num : (0, 3), L : (0, 2), R : (0, 3)\n",
      "num : (0, 1), L : (0, 1), R : (0, 3)\n",
      "num : (1, 2), L : (1, 2), R : (0, 3)\n",
      "num : (2, 1), L : (2, 1), R : (0, 3)\n",
      "num : (1, 3), L : (2, 1), R : (1, 3)\n",
      "num : (0, 2), L : (2, 1), R : (0, 2)\n",
      "LRLLRRLLLRR\n"
     ]
    }
   ],
   "source": [
    "dist_dict = {1 : (0,1), 2 : (0,2), 3: (0,3), 4: (1,1), 5 : (1,2), 6:(1,3),7:(2,1),8:(2,2),9:(2,3),10:(3,1),11:(3,2),12:(3,3)}\n",
    "def dist(present, target) :\n",
    "    return abs(present[0] - target[0]) + abs(present[1] - target[1])\n",
    "\n",
    "L = (3,1)\n",
    "R = (3,3)\n",
    "print(f'initial nums of L : {L}, R : {R}')\n",
    "\n",
    "final = ''\n",
    "\n",
    "#0이 들어오면 11로 치환\n",
    "numbers2 = [11 if num == 0 else num for num in numbers]\n",
    "numbers3 = [dist_dict[num] for num in numbers2]\n",
    "\n",
    "for num in numbers3 :\n",
    "    if num in [(0,1), (1,1), (2,1)] :\n",
    "        L = num\n",
    "        final += 'L'\n",
    "    elif num in [(0,3), (1,3), (2,3)] :\n",
    "        R = num\n",
    "        final += 'R'\n",
    "    #2580\n",
    "    else:\n",
    "        # 왼오 위치가 다를때\n",
    "        if dist(L,num) < dist(R,num):\n",
    "            L = num\n",
    "            final += 'L'\n",
    "        elif dist(L,num) > dist(R,num):\n",
    "            R = num\n",
    "            final += 'R'\n",
    "        # 왼오 위치가 누르려는 가운데열에서 동일하게 차이날때\n",
    "        elif dist(L,num) == dist(R,num):\n",
    "            if hand == 'left':\n",
    "                L = num\n",
    "                final += 'L'\n",
    "            else:\n",
    "                R = num\n",
    "                final += 'R'\n",
    "        \n",
    "                \n",
    "    print(f'num : {num}, L : {L}, R : {R}')\n",
    "    \n",
    "return final"
   ]
  }
 ],
 "metadata": {
  "kernelspec": {
   "display_name": "Python 3",
   "language": "python",
   "name": "python3"
  },
  "language_info": {
   "codemirror_mode": {
    "name": "ipython",
    "version": 3
   },
   "file_extension": ".py",
   "mimetype": "text/x-python",
   "name": "python",
   "nbconvert_exporter": "python",
   "pygments_lexer": "ipython3",
   "version": "3.8.5"
  }
 },
 "nbformat": 4,
 "nbformat_minor": 5
}
