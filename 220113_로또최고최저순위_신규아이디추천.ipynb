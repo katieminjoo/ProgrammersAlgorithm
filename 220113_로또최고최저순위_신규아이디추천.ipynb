{
 "cells": [
  {
   "cell_type": "code",
   "execution_count": 2,
   "id": "bf3f8669-e344-4d69-82dc-6bce31ad0bf1",
   "metadata": {},
   "outputs": [],
   "source": [
    "lottos = [44, 1, 0, 0, 31, 25]\n",
    "win_nums = [31, 10, 45, 1, 6, 19]\n",
    "# result = [3, 5]"
   ]
  },
  {
   "cell_type": "code",
   "execution_count": 3,
   "id": "f01ed459-6cc5-4944-a2c1-6cebc4dc23aa",
   "metadata": {},
   "outputs": [
    {
     "name": "stdout",
     "output_type": "stream",
     "text": [
      "{'1': 6, '2': 5, '3': 4, '4': 3, '5': 2, '6': 1}\n"
     ]
    }
   ],
   "source": [
    "rank_dic = {'1':6,'2':5,'3':4,'4':3,'5':2,'6':1}\n",
    "print(rank_dic)"
   ]
  },
  {
   "cell_type": "code",
   "execution_count": 4,
   "id": "d0fd1d4f-c81f-4f5b-b9de-0fe08d753271",
   "metadata": {},
   "outputs": [
    {
     "data": {
      "text/plain": [
       "[1, 31]"
      ]
     },
     "execution_count": 4,
     "metadata": {},
     "output_type": "execute_result"
    }
   ],
   "source": [
    "corresponding = list(set(lottos).intersection(win_nums))\n",
    "corresponding"
   ]
  },
  {
   "cell_type": "code",
   "execution_count": 6,
   "id": "3e383f3d-417e-48c6-9e5f-87dea3380bf1",
   "metadata": {},
   "outputs": [
    {
     "name": "stdout",
     "output_type": "stream",
     "text": [
      "5\n"
     ]
    }
   ],
   "source": [
    "worst = rank_dic[str(len(corresponding))]\n",
    "print(worst)"
   ]
  },
  {
   "cell_type": "code",
   "execution_count": 11,
   "id": "b7937271-08c5-40d3-ac08-b6c9a0acf520",
   "metadata": {},
   "outputs": [],
   "source": [
    "best = rank_dic[str(len(corresponding) + lottos.count(0))]"
   ]
  },
  {
   "cell_type": "code",
   "execution_count": 12,
   "id": "8b9e8b8c-1e91-4a0e-9699-aec06283f965",
   "metadata": {},
   "outputs": [
    {
     "data": {
      "text/plain": [
       "3"
      ]
     },
     "execution_count": 12,
     "metadata": {},
     "output_type": "execute_result"
    }
   ],
   "source": [
    "best"
   ]
  },
  {
   "cell_type": "code",
   "execution_count": 13,
   "id": "39f106e2-dabb-4fb0-af76-c33416297a0d",
   "metadata": {},
   "outputs": [],
   "source": [
    "def solution(lottos, win_nums):\n",
    "    rank_dic = {'1':6,'2':5,'3':4,'4':3,'5':2,'6':1}\n",
    "    corresponding = list(set(lottos).intersection(win_nums))\n",
    "    worst = rank_dic[str(len(corresponding))]\n",
    "    best = rank_dic[len(corresponding) + lottos.count(0)]\n",
    "    answer = [best, worst]\n",
    "    return answer"
   ]
  },
  {
   "cell_type": "code",
   "execution_count": 14,
   "id": "dfcedbb7-9d54-4352-8c01-42ab70debf1e",
   "metadata": {},
   "outputs": [
    {
     "ename": "KeyError",
     "evalue": "4",
     "output_type": "error",
     "traceback": [
      "\u001b[0;31m\u001b[0m",
      "\u001b[0;31mKeyError\u001b[0mTraceback (most recent call last)",
      "\u001b[0;32m<ipython-input-14-4933f6b6bafb>\u001b[0m in \u001b[0;36m<module>\u001b[0;34m\u001b[0m\n\u001b[0;32m----> 1\u001b[0;31m \u001b[0msolution\u001b[0m\u001b[0;34m(\u001b[0m\u001b[0mlottos\u001b[0m\u001b[0;34m,\u001b[0m \u001b[0mwin_nums\u001b[0m\u001b[0;34m)\u001b[0m\u001b[0;34m\u001b[0m\u001b[0;34m\u001b[0m\u001b[0m\n\u001b[0m",
      "\u001b[0;32m<ipython-input-13-7025998e8064>\u001b[0m in \u001b[0;36msolution\u001b[0;34m(lottos, win_nums)\u001b[0m\n\u001b[1;32m      3\u001b[0m     \u001b[0mcorresponding\u001b[0m \u001b[0;34m=\u001b[0m \u001b[0mlist\u001b[0m\u001b[0;34m(\u001b[0m\u001b[0mset\u001b[0m\u001b[0;34m(\u001b[0m\u001b[0mlottos\u001b[0m\u001b[0;34m)\u001b[0m\u001b[0;34m.\u001b[0m\u001b[0mintersection\u001b[0m\u001b[0;34m(\u001b[0m\u001b[0mwin_nums\u001b[0m\u001b[0;34m)\u001b[0m\u001b[0;34m)\u001b[0m\u001b[0;34m\u001b[0m\u001b[0;34m\u001b[0m\u001b[0m\n\u001b[1;32m      4\u001b[0m     \u001b[0mworst\u001b[0m \u001b[0;34m=\u001b[0m \u001b[0mrank_dic\u001b[0m\u001b[0;34m[\u001b[0m\u001b[0mstr\u001b[0m\u001b[0;34m(\u001b[0m\u001b[0mlen\u001b[0m\u001b[0;34m(\u001b[0m\u001b[0mcorresponding\u001b[0m\u001b[0;34m)\u001b[0m\u001b[0;34m)\u001b[0m\u001b[0;34m]\u001b[0m\u001b[0;34m\u001b[0m\u001b[0;34m\u001b[0m\u001b[0m\n\u001b[0;32m----> 5\u001b[0;31m     \u001b[0mbest\u001b[0m \u001b[0;34m=\u001b[0m \u001b[0mrank_dic\u001b[0m\u001b[0;34m[\u001b[0m\u001b[0mlen\u001b[0m\u001b[0;34m(\u001b[0m\u001b[0mcorresponding\u001b[0m\u001b[0;34m)\u001b[0m \u001b[0;34m+\u001b[0m \u001b[0mlottos\u001b[0m\u001b[0;34m.\u001b[0m\u001b[0mcount\u001b[0m\u001b[0;34m(\u001b[0m\u001b[0;36m0\u001b[0m\u001b[0;34m)\u001b[0m\u001b[0;34m]\u001b[0m\u001b[0;34m\u001b[0m\u001b[0;34m\u001b[0m\u001b[0m\n\u001b[0m\u001b[1;32m      6\u001b[0m     \u001b[0manswer\u001b[0m \u001b[0;34m=\u001b[0m \u001b[0;34m[\u001b[0m\u001b[0mbest\u001b[0m\u001b[0;34m,\u001b[0m \u001b[0mworst\u001b[0m\u001b[0;34m]\u001b[0m\u001b[0;34m\u001b[0m\u001b[0;34m\u001b[0m\u001b[0m\n\u001b[1;32m      7\u001b[0m     \u001b[0;32mreturn\u001b[0m \u001b[0manswer\u001b[0m\u001b[0;34m\u001b[0m\u001b[0;34m\u001b[0m\u001b[0m\n",
      "\u001b[0;31mKeyError\u001b[0m: 4"
     ]
    }
   ],
   "source": [
    "solution(lottos, win_nums)"
   ]
  },
  {
   "cell_type": "code",
   "execution_count": null,
   "id": "dd317b26-3bcd-49a3-93e2-3b5a27623e71",
   "metadata": {},
   "outputs": [],
   "source": [
    "best = rank_dic"
   ]
  },
  {
   "cell_type": "code",
   "execution_count": null,
   "id": "1cc56a78-b93e-452d-9c8b-09c65a8091b7",
   "metadata": {},
   "outputs": [],
   "source": []
  },
  {
   "cell_type": "code",
   "execution_count": null,
   "id": "0e636c57-dba2-45bc-8858-b1c12a2c6fa9",
   "metadata": {},
   "outputs": [],
   "source": [
    "rank_dic = {'1':6,'2':5,'3':4,'4':3,'5':2,'6':1}\n",
    "corresponding = list(set(lottos).intersection(win_nums))\n",
    "worst = rank_dic[len(corresponding)]\n",
    "print(worst)\n",
    "# best = rank_dic[len(corresponding) + len(lottos.find(0))]\n",
    "# answer = [best, worst]\n",
    "# return answer"
   ]
  },
  {
   "cell_type": "code",
   "execution_count": null,
   "id": "f95f7c1e-9224-4106-9efb-3fffd85b9e34",
   "metadata": {},
   "outputs": [],
   "source": [
    "# 1. lottos 와 win_nums의 같은 숫자가 몇개 있는지 확인하기\n",
    "# -> 이 일치하는 갯수가 worst 순위를 결정\n",
    "# 2. lottos 에서 1의 일치하는 갯수를 뺀 숫자 == 0의 갯수\n",
    "# 1의 일치하는 갯수 + 0의 갯수 를 더한것이 best 순위 결정\n",
    "\n",
    "def solution(lottos, win_nums):\n",
    "    rank_dic = {'1':6,'2':5,'3':4,'4':3,'5':2,'6':1}\n",
    "    corresponding = list(set(lottos).intersection(win_nums))\n",
    "    worst = rank_dic[len(corresponding)]\n",
    "    print(worst)\n",
    "    # best = rank_dic[len(corresponding) + len(lottos.find(0))]\n",
    "    # answer = [best, worst]\n",
    "    # return answer"
   ]
  },
  {
   "cell_type": "code",
   "execution_count": null,
   "id": "c19448aa-a688-4eab-b0ff-bd5ae981a558",
   "metadata": {},
   "outputs": [],
   "source": []
  },
  {
   "cell_type": "code",
   "execution_count": null,
   "id": "97051d1c-d3e9-41e1-97f9-eb59eb5c4f45",
   "metadata": {},
   "outputs": [],
   "source": []
  },
  {
   "cell_type": "code",
   "execution_count": null,
   "id": "2c7b0816-1e90-4d25-91a5-4da2d8828d7c",
   "metadata": {},
   "outputs": [],
   "source": [
    "1단계 new_id의 모든 대문자를 대응되는 소문자로 치환합니다.\n",
    "2단계 new_id에서 알파벳 소문자, 숫자, 빼기(-), 밑줄(_), 마침표(.)를 제외한 모든 문자를 제거합니다.\n",
    "3단계 new_id에서 마침표(.)가 2번 이상 연속된 부분을 하나의 마침표(.)로 치환합니다.\n",
    "4단계 new_id에서 마침표(.)가 처음이나 끝에 위치한다면 제거합니다.\n",
    "5단계 new_id가 빈 문자열이라면, new_id에 \"a\"를 대입합니다.\n",
    "6단계 new_id의 길이가 16자 이상이면, new_id의 첫 15개의 문자를 제외한 나머지 문자들을 모두 제거합니다.\n",
    "     만약 제거 후 마침표(.)가 new_id의 끝에 위치한다면 끝에 위치한 마침표(.) 문자를 제거합니다.\n",
    "7단계 new_id의 길이가 2자 이하라면, new_id의 마지막 문자를 new_id의 길이가 3이 될 때까지 반복해서 끝에 붙입니다."
   ]
  },
  {
   "cell_type": "code",
   "execution_count": 35,
   "id": "3df6bab6-7d84-4873-a921-f9d5e95d9f5c",
   "metadata": {},
   "outputs": [],
   "source": [
    "new_id = \"...!@BaT#*..y.abcdefghijklm--\""
   ]
  },
  {
   "cell_type": "code",
   "execution_count": 36,
   "id": "a3c8a2e5-b00c-4b3a-872c-786a5cbec257",
   "metadata": {},
   "outputs": [],
   "source": [
    "#1단계\n",
    "new_id = new_id.lower()"
   ]
  },
  {
   "cell_type": "code",
   "execution_count": 37,
   "id": "bb989e39-7d74-4dee-a9f4-47abce63b987",
   "metadata": {},
   "outputs": [],
   "source": [
    "#2단계\n",
    "import re\n",
    "new_id = re.sub('[^a-z0-9-_.]','',new_id)"
   ]
  },
  {
   "cell_type": "code",
   "execution_count": 38,
   "id": "f7f3eba6-ecdb-4f22-a4be-7243bbbfdc4a",
   "metadata": {},
   "outputs": [
    {
     "name": "stdout",
     "output_type": "stream",
     "text": [
      ".bat.y.abcdefghijklm--\n"
     ]
    }
   ],
   "source": [
    "#3단계\n",
    "#역슬래시점 == 문자 점\n",
    "#문자점이 2회이상반복되면 온점 하나로 바꿔라\n",
    "\n",
    "new_id = re.sub('\\.{2,}','.',new_id)\n",
    "print(new_id)"
   ]
  },
  {
   "cell_type": "code",
   "execution_count": 42,
   "id": "36fe4354-48b0-49ac-9e16-11b45c543099",
   "metadata": {},
   "outputs": [
    {
     "data": {
      "text/plain": [
       "True"
      ]
     },
     "execution_count": 42,
     "metadata": {},
     "output_type": "execute_result"
    }
   ],
   "source": [
    "new_id[0] == '.'"
   ]
  },
  {
   "cell_type": "code",
   "execution_count": 43,
   "id": "a45be6bc-97f6-400f-a040-b3405b0478a6",
   "metadata": {},
   "outputs": [
    {
     "name": "stdout",
     "output_type": "stream",
     "text": [
      "bat.y.abcdefghijklm--\n"
     ]
    }
   ],
   "source": [
    "#4단계\n",
    "# 마침표가 처음이나 끝에 위치한다면 제거\n",
    "if new_id[0] == '.':\n",
    "    new_id = new_id[1:]\n",
    "if new_id[-1] == '.':\n",
    "    new_id = new_id[:-1]\n",
    "print(new_id)"
   ]
  },
  {
   "cell_type": "code",
   "execution_count": null,
   "id": "78a81902-7988-4ef4-891a-2e6c376d0ed7",
   "metadata": {},
   "outputs": [],
   "source": []
  },
  {
   "cell_type": "code",
   "execution_count": 44,
   "id": "cf01749b-da8b-4522-8ce5-ce194fb11630",
   "metadata": {},
   "outputs": [],
   "source": [
    "# 5단계\n",
    "if len(new_id) == 0:\n",
    "    new_id = \"a\""
   ]
  },
  {
   "cell_type": "code",
   "execution_count": 45,
   "id": "496832c5-5603-4c79-a17c-90bb845a5251",
   "metadata": {
    "tags": []
   },
   "outputs": [],
   "source": [
    "# 6단계 \n",
    "if len(new_id) == 16:\n",
    "    new_id = new_id[:15]\n",
    "    if new_id[-1] == '.':\n",
    "        new_id = new_id[:14]"
   ]
  },
  {
   "cell_type": "code",
   "execution_count": 46,
   "id": "2ad52ee3-4b53-412e-ac1e-8fc9fcba20ce",
   "metadata": {},
   "outputs": [
    {
     "name": "stdout",
     "output_type": "stream",
     "text": [
      "bat.y.abcdefghijklm--\n"
     ]
    }
   ],
   "source": [
    "print(new_id)"
   ]
  },
  {
   "cell_type": "code",
   "execution_count": 47,
   "id": "f8ee7ea0-65b6-4c8d-877b-bdd5c02273da",
   "metadata": {},
   "outputs": [
    {
     "name": "stdout",
     "output_type": "stream",
     "text": [
      "bat.y.abcdefghijklm--\n"
     ]
    }
   ],
   "source": [
    "# 7단계\n",
    "if len(new_id) <= 2:\n",
    "    # 1이거나 2겠지\n",
    "    if len(new_id) == 1:\n",
    "        new_id += new_id[-1]\n",
    "        new_id += new_id[-1]\n",
    "    else:\n",
    "        new_id += new_id[-1]\n",
    "\n",
    "print(new_id)"
   ]
  },
  {
   "cell_type": "code",
   "execution_count": 53,
   "id": "427e057c-ecd3-4512-aa1c-7444ca70aa2f",
   "metadata": {},
   "outputs": [],
   "source": [
    "new_id = \"...!@BaT#*..y.abcdefghijklm--\""
   ]
  },
  {
   "cell_type": "code",
   "execution_count": 84,
   "id": "82970576-fe40-4148-a6ea-a74e106d093c",
   "metadata": {},
   "outputs": [],
   "source": [
    "new_id = \"=.=\""
   ]
  },
  {
   "cell_type": "code",
   "execution_count": 79,
   "id": "967c851f-4b01-4c6f-ad05-354c18dcbdc2",
   "metadata": {},
   "outputs": [
    {
     "data": {
      "text/plain": [
       "'=.='"
      ]
     },
     "execution_count": 79,
     "metadata": {},
     "output_type": "execute_result"
    }
   ],
   "source": [
    "new_id.lower()"
   ]
  },
  {
   "cell_type": "code",
   "execution_count": 85,
   "id": "f6ae059a-2169-4511-9bfc-604ad3ecd5d4",
   "metadata": {},
   "outputs": [
    {
     "name": "stdout",
     "output_type": "stream",
     "text": [
      ".\n"
     ]
    }
   ],
   "source": [
    "import re\n",
    "\n",
    "\n",
    "# new_id = new_id.lower()\n",
    "new_id = re.sub('[^a-z0-9-_.]','',new_id)\n",
    "print(new_id)"
   ]
  },
  {
   "cell_type": "code",
   "execution_count": 86,
   "id": "bda9e8ea-034d-4c29-a4dc-093f97279237",
   "metadata": {},
   "outputs": [
    {
     "name": "stdout",
     "output_type": "stream",
     "text": [
      ".\n"
     ]
    }
   ],
   "source": [
    "new_id = re.sub('\\.{2,}','.',new_id)\n",
    "print(new_id)"
   ]
  },
  {
   "cell_type": "code",
   "execution_count": 87,
   "id": "b5c12193-064f-46fc-950b-fc019e8d832a",
   "metadata": {},
   "outputs": [
    {
     "name": "stdout",
     "output_type": "stream",
     "text": [
      "\n"
     ]
    }
   ],
   "source": [
    "if new_id[0] == '.':\n",
    "    new_id = new_id[1:]\n",
    "print(new_id)"
   ]
  },
  {
   "cell_type": "code",
   "execution_count": 88,
   "id": "7a5f93b9-1fa6-4e91-97a8-4663d675ee61",
   "metadata": {},
   "outputs": [],
   "source": [
    "    if len(new_id) == 0:\n",
    "        new_id = \"a\""
   ]
  },
  {
   "cell_type": "code",
   "execution_count": 91,
   "id": "1157b86b-8d05-479e-8081-08e693f07e37",
   "metadata": {},
   "outputs": [
    {
     "data": {
      "text/plain": [
       "'a'"
      ]
     },
     "execution_count": 91,
     "metadata": {},
     "output_type": "execute_result"
    }
   ],
   "source": [
    "new_id[0]"
   ]
  },
  {
   "cell_type": "code",
   "execution_count": 93,
   "id": "e5187083-bbb9-4199-8e32-e868bdb1718d",
   "metadata": {},
   "outputs": [
    {
     "data": {
      "text/plain": [
       "'111'"
      ]
     },
     "execution_count": 93,
     "metadata": {},
     "output_type": "execute_result"
    }
   ],
   "source": [
    "'1' *3"
   ]
  },
  {
   "cell_type": "code",
   "execution_count": 71,
   "id": "7a2ae334-ee54-45d8-a164-126025b41397",
   "metadata": {},
   "outputs": [],
   "source": [
    "    if new_id[-1] == '.':\n",
    "        new_id = new_id[:-1]\n",
    "    if len(new_id) == 0:\n",
    "        new_id = \"a\""
   ]
  },
  {
   "cell_type": "code",
   "execution_count": 71,
   "id": "ceb850de-012d-4eba-82ee-c7cece412f1e",
   "metadata": {},
   "outputs": [],
   "source": [
    "    \n",
    "    if len(new_id) >= 16:\n",
    "        new_id = new_id[:15]\n",
    "        if new_id[-1] == '.':\n",
    "            new_id = new_id[:14]\n",
    "    if len(new_id) == 1:\n",
    "        new_id += new_id[-1]\n",
    "        new_id += new_id[-1]\n",
    "    if len(new_id) == 2:\n",
    "        new_id += new_id[-1]\n",
    "    return new_id"
   ]
  },
  {
   "cell_type": "code",
   "execution_count": 72,
   "id": "76fe50f2-2956-4ed4-8c4d-7de3b9de5814",
   "metadata": {},
   "outputs": [
    {
     "name": "stdout",
     "output_type": "stream",
     "text": [
      "\n"
     ]
    },
    {
     "ename": "IndexError",
     "evalue": "string index out of range",
     "output_type": "error",
     "traceback": [
      "\u001b[0;31m\u001b[0m",
      "\u001b[0;31mIndexError\u001b[0mTraceback (most recent call last)",
      "\u001b[0;32m<ipython-input-72-9749d62b59ee>\u001b[0m in \u001b[0;36m<module>\u001b[0;34m\u001b[0m\n\u001b[0;32m----> 1\u001b[0;31m \u001b[0msolution\u001b[0m\u001b[0;34m(\u001b[0m\u001b[0mnew_id\u001b[0m\u001b[0;34m)\u001b[0m\u001b[0;34m\u001b[0m\u001b[0;34m\u001b[0m\u001b[0m\n\u001b[0m",
      "\u001b[0;32m<ipython-input-71-06e850650a75>\u001b[0m in \u001b[0;36msolution\u001b[0;34m(new_id)\u001b[0m\n\u001b[1;32m      8\u001b[0m         \u001b[0mnew_id\u001b[0m \u001b[0;34m=\u001b[0m \u001b[0mnew_id\u001b[0m\u001b[0;34m[\u001b[0m\u001b[0;36m1\u001b[0m\u001b[0;34m:\u001b[0m\u001b[0;34m]\u001b[0m\u001b[0;34m\u001b[0m\u001b[0;34m\u001b[0m\u001b[0m\n\u001b[1;32m      9\u001b[0m     \u001b[0mprint\u001b[0m\u001b[0;34m(\u001b[0m\u001b[0mnew_id\u001b[0m\u001b[0;34m)\u001b[0m\u001b[0;34m\u001b[0m\u001b[0;34m\u001b[0m\u001b[0m\n\u001b[0;32m---> 10\u001b[0;31m     \u001b[0;32mif\u001b[0m \u001b[0mnew_id\u001b[0m\u001b[0;34m[\u001b[0m\u001b[0;34m-\u001b[0m\u001b[0;36m1\u001b[0m\u001b[0;34m]\u001b[0m \u001b[0;34m==\u001b[0m \u001b[0;34m'.'\u001b[0m\u001b[0;34m:\u001b[0m\u001b[0;34m\u001b[0m\u001b[0;34m\u001b[0m\u001b[0m\n\u001b[0m\u001b[1;32m     11\u001b[0m         \u001b[0mnew_id\u001b[0m \u001b[0;34m=\u001b[0m \u001b[0mnew_id\u001b[0m\u001b[0;34m[\u001b[0m\u001b[0;34m:\u001b[0m\u001b[0;34m-\u001b[0m\u001b[0;36m1\u001b[0m\u001b[0;34m]\u001b[0m\u001b[0;34m\u001b[0m\u001b[0;34m\u001b[0m\u001b[0m\n\u001b[1;32m     12\u001b[0m     \u001b[0;32mif\u001b[0m \u001b[0mlen\u001b[0m\u001b[0;34m(\u001b[0m\u001b[0mnew_id\u001b[0m\u001b[0;34m)\u001b[0m \u001b[0;34m==\u001b[0m \u001b[0;36m0\u001b[0m\u001b[0;34m:\u001b[0m\u001b[0;34m\u001b[0m\u001b[0;34m\u001b[0m\u001b[0m\n",
      "\u001b[0;31mIndexError\u001b[0m: string index out of range"
     ]
    }
   ],
   "source": [
    "solution(new_id)"
   ]
  },
  {
   "cell_type": "code",
   "execution_count": null,
   "id": "cfcfda90-bc20-403e-9318-b059ca450e4a",
   "metadata": {},
   "outputs": [],
   "source": []
  },
  {
   "cell_type": "code",
   "execution_count": 39,
   "id": "2f558c86-dda7-4881-af1a-9753d74eea4f",
   "metadata": {},
   "outputs": [],
   "source": [
    "# 민주제출답안\n",
    "\n",
    "import re\n",
    "\n",
    "def solution(new_id):\n",
    "    new_id = new_id.lower()\n",
    "    new_id = re.sub('[^a-z0-9-_.]','',new_id)\n",
    "    new_id = re.sub('\\.{2,}','.',new_id)\n",
    "    if (new_id[0] == '.'):\n",
    "        new_id = new_id[1:]\n",
    "    print(new_id)\n",
    "    if (len(new_id) > 0 and new_id[-1] == '.'):\n",
    "        new_id = new_id[:-1]\n",
    "    if len(new_id) == 0:\n",
    "        new_id = \"a\"    \n",
    "    if len(new_id) >= 16:\n",
    "        new_id = new_id[:15]\n",
    "        if new_id[-1] == '.':\n",
    "            new_id = new_id[:14]\n",
    "    if len(new_id) == 1:\n",
    "        new_id *= 3\n",
    "    if len(new_id) == 2:\n",
    "        new_id += new_id[-1]\n",
    "    return new_id"
   ]
  },
  {
   "cell_type": "code",
   "execution_count": null,
   "id": "6aac55b9-1deb-4278-b3f9-27324f09776f",
   "metadata": {},
   "outputs": [],
   "source": [
    "# 모범답안\n",
    "\n",
    "import re\n",
    "\n",
    "def solution(new_id):\n",
    "    st = new_id\n",
    "    st = st.lower()\n",
    "    st = re.sub('[^a-z0-9\\-_.]', '', st)\n",
    "    st = re.sub('\\.+', '.', st)\n",
    "    st = re.sub('^[.]|[.]$', '', st)\n",
    "    st = 'a' if len(st) == 0 else st[:15]\n",
    "    st = re.sub('^[.]|[.]$', '', st)\n",
    "    st = st if len(st) > 2 else st + \"\".join([st[-1] for i in range(3-len(st))])\n",
    "    return st"
   ]
  },
  {
   "cell_type": "markdown",
   "id": "4528059b-bfb3-4212-b7f0-721e1c42ffb9",
   "metadata": {},
   "source": [
    "1단계 new_id의 모든 대문자를 대응되는 소문자로 치환합니다.\n",
    "2단계 new_id에서 알파벳 소문자, 숫자, 빼기(-), 밑줄(_), 마침표(.)를 제외한 모든 문자를 제거합니다.\n",
    "3단계 new_id에서 마침표(.)가 2번 이상 연속된 부분을 하나의 마침표(.)로 치환합니다.\n",
    "4단계 new_id에서 마침표(.)가 처음이나 끝에 위치한다면 제거합니다.\n",
    "5단계 new_id가 빈 문자열이라면, new_id에 \"a\"를 대입합니다.\n",
    "6단계 new_id의 길이가 16자 이상이면, new_id의 첫 15개의 문자를 제외한 나머지 문자들을 모두 제거합니다.\n",
    "     만약 제거 후 마침표(.)가 new_id의 끝에 위치한다면 끝에 위치한 마침표(.) 문자를 제거합니다.\n",
    "7단계 new_id의 길이가 2자 이하라면, new_id의 마지막 문자를 new_id의 길이가 3이 될 때까지 반복해서 끝에 붙입니다."
   ]
  },
  {
   "cell_type": "code",
   "execution_count": 48,
   "id": "5c29812b-b74d-4610-bf55-9b2157e0d515",
   "metadata": {},
   "outputs": [],
   "source": [
    "import re\n",
    "\n",
    "def solution(new_id):\n",
    "\n",
    "    #1 소문자로 치환\n",
    "    new_id = new_id.lower()\n",
    "    #2 소문자, 숫자, -, _, . 제외한 모든 문자 제거\n",
    "    new_id=re.sub('[^a-z0-9-_.]','',new_id)\n",
    "    #3 .가 2번이상 연속된부분을 하나의 마침표로\n",
    "    new_id=re.sub('\\.{2,}','.',new_id)\n",
    "    #4 .가 처음이나 끝에 위치하면 제거\n",
    "    new_id=re.sub('^[.]|[.]$','',new_id)\n",
    "    #5. newid가 빈문자열이라면 'a' 대입\n",
    "    new_id='a' if len(new_id) == 0 else new_id[:15]\n",
    "    #6. 제거 후 마침표가 newid의 끝에 위치한다면 끝에 위치한 마침표문자 제거\n",
    "    new_id=re.sub('[.]$','', new_id)\n",
    "    # 7. newid의 길이가 2자 이하라면 마지막문자를 길이가 3이될떄까지 반복\n",
    "    new_id = new_id if len(new_id) > 2 else new_id + \"\".join(new_id[-1] for i in range(3-len(new_id)))\n",
    "    return new_id"
   ]
  },
  {
   "cell_type": "code",
   "execution_count": 49,
   "id": "83e4c4e9-196d-4986-b2e0-8d92ceb2bbf6",
   "metadata": {},
   "outputs": [],
   "source": [
    "a = \"...!@BaT#*..y.abcdefghijklm\"\t\"bat.y.abcdefghi\"\n",
    "b = \"z-+.^.\"\n",
    "c = \"=.=\"\n",
    "d = \"123_.def\"\n",
    "e = \"abcdefghijklmn.p\"\n",
    "f = '.1234.'"
   ]
  },
  {
   "cell_type": "code",
   "execution_count": 51,
   "id": "50ade4c7-5553-452d-855f-c29c56f9b546",
   "metadata": {},
   "outputs": [
    {
     "data": {
      "text/plain": [
       "'1234'"
      ]
     },
     "execution_count": 51,
     "metadata": {},
     "output_type": "execute_result"
    }
   ],
   "source": [
    "solution(c)\n",
    "solution(f)"
   ]
  },
  {
   "cell_type": "code",
   "execution_count": 3,
   "id": "b1dd60b3-877b-4834-8a18-578a1dc0125a",
   "metadata": {},
   "outputs": [],
   "source": [
    "def solution(new_id):\n",
    "    if new_id[0] == '.':\n",
    "        new_id = new_id[1:]\n",
    "    if new_id[-1] == '.':\n",
    "        new_id = new_id[:-1]\n",
    "    return new_id"
   ]
  },
  {
   "cell_type": "code",
   "execution_count": 4,
   "id": "d0909ebb-0517-4833-ab01-1349687cbe08",
   "metadata": {},
   "outputs": [
    {
     "data": {
      "text/plain": [
       "'abcde'"
      ]
     },
     "execution_count": 4,
     "metadata": {},
     "output_type": "execute_result"
    }
   ],
   "source": [
    "solution('.abcde.')"
   ]
  },
  {
   "cell_type": "code",
   "execution_count": 117,
   "id": "33572402-7435-4c26-ba51-1a23382b8671",
   "metadata": {},
   "outputs": [
    {
     "name": "stdout",
     "output_type": "stream",
     "text": [
      "sample size : 1\n"
     ]
    },
    {
     "data": {
      "image/png": "[encoded data removed]",
      "text/plain": [
       "<Figure size 432x288 with 1 Axes>"
      ]
     },
     "metadata": {
      "needs_background": "light"
     },
     "output_type": "display_data"
    },
    {
     "name": "stdout",
     "output_type": "stream",
     "text": [
      "sample size : 101\n"
     ]
    },
    {
     "data": {
      "image/png": "[encoded data removed]",
      "text/plain": [
       "<Figure size 432x288 with 1 Axes>"
      ]
     },
     "metadata": {
      "needs_background": "light"
     },
     "output_type": "display_data"
    },
    {
     "name": "stdout",
     "output_type": "stream",
     "text": [
      "sample size : 201\n"
     ]
    },
    {
     "data": {
      "image/png": "[encoded data removed]",
      "text/plain": [
       "<Figure size 432x288 with 1 Axes>"
      ]
     },
     "metadata": {
      "needs_background": "light"
     },
     "output_type": "display_data"
    },
    {
     "name": "stdout",
     "output_type": "stream",
     "text": [
      "sample size : 301\n"
     ]
    },
    {
     "data": {
      "image/png": "[encoded data removed]",
      "text/plain": [
       "<Figure size 432x288 with 1 Axes>"
      ]
     },
     "metadata": {
      "needs_background": "light"
     },
     "output_type": "display_data"
    },
    {
     "name": "stdout",
     "output_type": "stream",
     "text": [
      "sample size : 401\n"
     ]
    },
    {
     "data": {
      "image/png": "[encoded data removed]",
      "text/plain": [
       "<Figure size 432x288 with 1 Axes>"
      ]
     },
     "metadata": {
      "needs_background": "light"
     },
     "output_type": "display_data"
    },
    {
     "name": "stdout",
     "output_type": "stream",
     "text": [
      "sample size : 501\n"
     ]
    },
    {
     "data": {
      "image/png": "[encoded data removed]",
      "text/plain": [
       "<Figure size 432x288 with 1 Axes>"
      ]
     },
     "metadata": {
      "needs_background": "light"
     },
     "output_type": "display_data"
    },
    {
     "name": "stdout",
     "output_type": "stream",
     "text": [
      "sample size : 601\n"
     ]
    },
    {
     "data": {
      "image/png": "[encoded data removed]",
      "text/plain": [
       "<Figure size 432x288 with 1 Axes>"
      ]
     },
     "metadata": {
      "needs_background": "light"
     },
     "output_type": "display_data"
    },
    {
     "name": "stdout",
     "output_type": "stream",
     "text": [
      "sample size : 701\n"
     ]
    },
    {
     "data": {
      "image/png": "[encoded data removed]",
      "text/plain": [
       "<Figure size 432x288 with 1 Axes>"
      ]
     },
     "metadata": {
      "needs_background": "light"
     },
     "output_type": "display_data"
    },
    {
     "name": "stdout",
     "output_type": "stream",
     "text": [
      "sample size : 801\n"
     ]
    },
    {
     "data": {
      "image/png": "[encoded data removed]",
      "text/plain": [
       "<Figure size 432x288 with 1 Axes>"
      ]
     },
     "metadata": {
      "needs_background": "light"
     },
     "output_type": "display_data"
    },
    {
     "name": "stdout",
     "output_type": "stream",
     "text": [
      "sample size : 901\n"
     ]
    },
    {
     "data": {
      "image/png": "[encoded data removed]",
      "text/plain": [
       "<Figure size 432x288 with 1 Axes>"
      ]
     },
     "metadata": {
      "needs_background": "light"
     },
     "output_type": "display_data"
    }
   ],
   "source": [
    "for sample_size in range(1,1000,100):\n",
    "    print(f'sample size : {sample_size}')\n",
    "    xbars = []\n",
    "    for _ in range(100):\n",
    "        xbar = np.random.randint(1,7, size = sample_size).mean()\n",
    "        xbars.append(xbar)\n",
    "    plt.hist(xbars)\n",
    "    plt.show()"
   ]
  },
  {
   "cell_type": "code",
   "execution_count": 96,
   "id": "1d096abe-3499-43e2-b8cb-7afa906592ae",
   "metadata": {},
   "outputs": [
    {
     "name": "stdout",
     "output_type": "stream",
     "text": [
      "sample_size : 1\n"
     ]
    },
    {
     "data": {
      "image/png": "[encoded data removed]",
      "text/plain": [
       "<Figure size 432x288 with 1 Axes>"
      ]
     },
     "metadata": {
      "needs_background": "light"
     },
     "output_type": "display_data"
    },
    {
     "name": "stdout",
     "output_type": "stream",
     "text": [
      "sample_size : 11\n"
     ]
    },
    {
     "data": {
      "image/png": "[encoded data removed]",
      "text/plain": [
       "<Figure size 432x288 with 1 Axes>"
      ]
     },
     "metadata": {
      "needs_background": "light"
     },
     "output_type": "display_data"
    },
    {
     "name": "stdout",
     "output_type": "stream",
     "text": [
      "sample_size : 21\n"
     ]
    },
    {
     "data": {
      "image/png": "[encoded data removed]",
      "text/plain": [
       "<Figure size 432x288 with 1 Axes>"
      ]
     },
     "metadata": {
      "needs_background": "light"
     },
     "output_type": "display_data"
    },
    {
     "name": "stdout",
     "output_type": "stream",
     "text": [
      "sample_size : 31\n"
     ]
    },
    {
     "data": {
      "image/png": "[encoded data removed]",
      "text/plain": [
       "<Figure size 432x288 with 1 Axes>"
      ]
     },
     "metadata": {
      "needs_background": "light"
     },
     "output_type": "display_data"
    },
    {
     "name": "stdout",
     "output_type": "stream",
     "text": [
      "sample_size : 41\n"
     ]
    },
    {
     "data": {
      "image/png": "[encoded data removed]",
      "text/plain": [
       "<Figure size 432x288 with 1 Axes>"
      ]
     },
     "metadata": {
      "needs_background": "light"
     },
     "output_type": "display_data"
    },
    {
     "name": "stdout",
     "output_type": "stream",
     "text": [
      "sample_size : 51\n"
     ]
    },
    {
     "data": {
      "image/png": "[encoded data removed]",
      "text/plain": [
       "<Figure size 432x288 with 1 Axes>"
      ]
     },
     "metadata": {
      "needs_background": "light"
     },
     "output_type": "display_data"
    },
    {
     "name": "stdout",
     "output_type": "stream",
     "text": [
      "sample_size : 61\n"
     ]
    },
    {
     "data": {
      "image/png": "[encoded data removed]",
      "text/plain": [
       "<Figure size 432x288 with 1 Axes>"
      ]
     },
     "metadata": {
      "needs_background": "light"
     },
     "output_type": "display_data"
    },
    {
     "name": "stdout",
     "output_type": "stream",
     "text": [
      "sample_size : 71\n"
     ]
    },
    {
     "data": {
      "image/png": "[encoded data removed]",
      "text/plain": [
       "<Figure size 432x288 with 1 Axes>"
      ]
     },
     "metadata": {
      "needs_background": "light"
     },
     "output_type": "display_data"
    },
    {
     "name": "stdout",
     "output_type": "stream",
     "text": [
      "sample_size : 81\n"
     ]
    },
    {
     "data": {
      "image/png": "[encoded data removed]",
      "text/plain": [
       "<Figure size 432x288 with 1 Axes>"
      ]
     },
     "metadata": {
      "needs_background": "light"
     },
     "output_type": "display_data"
    },
    {
     "name": "stdout",
     "output_type": "stream",
     "text": [
      "sample_size : 91\n"
     ]
    },
    {
     "data": {
      "image/png": "[encoded data removed]",
      "text/plain": [
       "<Figure size 432x288 with 1 Axes>"
      ]
     },
     "metadata": {
      "needs_background": "light"
     },
     "output_type": "display_data"
    },
    {
     "name": "stdout",
     "output_type": "stream",
     "text": [
      "sample_size : 101\n"
     ]
    },
    {
     "data": {
      "image/png": "[encoded data removed]",
      "text/plain": [
       "<Figure size 432x288 with 1 Axes>"
      ]
     },
     "metadata": {
      "needs_background": "light"
     },
     "output_type": "display_data"
    }
   ],
   "source": [
    "import numpy as np\n",
    "import matplotlib.pyplot as plt\n",
    "# 주사위 던지기\n",
    "for sample_size in range(1, 102, 10):\n",
    "    print(f'sample_size : {sample_size}')\n",
    "    xbars = []\n",
    "    for _ in range(100):\n",
    "        xbar = np.random.randint(1,7, size = sample_size).mean()\n",
    "        xbars.append(xbar)\n",
    "    plt.hist(xbars)\n",
    "    plt.show()"
   ]
  },
  {
   "cell_type": "code",
   "execution_count": null,
   "id": "ea644401-b7a2-41d9-9dfb-94c6e769359a",
   "metadata": {},
   "outputs": [],
   "source": []
  }
 ],
 "metadata": {
  "kernelspec": {
   "display_name": "Python 3",
   "language": "python",
   "name": "python3"
  },
  "language_info": {
   "codemirror_mode": {
    "name": "ipython",
    "version": 3
   },
   "file_extension": ".py",
   "mimetype": "text/x-python",
   "name": "python",
   "nbconvert_exporter": "python",
   "pygments_lexer": "ipython3",
   "version": "3.8.5"
  }
 },
 "nbformat": 4,
 "nbformat_minor": 5
}
