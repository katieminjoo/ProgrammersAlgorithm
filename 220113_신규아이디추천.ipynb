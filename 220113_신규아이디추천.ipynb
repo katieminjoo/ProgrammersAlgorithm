{
 "cells": [
  {
   "cell_type": "code",
   "execution_count": null,
   "id": "2c7b0816-1e90-4d25-91a5-4da2d8828d7c",
   "metadata": {},
   "outputs": [],
   "source": [
    "1단계 new_id의 모든 대문자를 대응되는 소문자로 치환합니다.\n",
    "2단계 new_id에서 알파벳 소문자, 숫자, 빼기(-), 밑줄(_), 마침표(.)를 제외한 모든 문자를 제거합니다.\n",
    "3단계 new_id에서 마침표(.)가 2번 이상 연속된 부분을 하나의 마침표(.)로 치환합니다.\n",
    "4단계 new_id에서 마침표(.)가 처음이나 끝에 위치한다면 제거합니다.\n",
    "5단계 new_id가 빈 문자열이라면, new_id에 \"a\"를 대입합니다.\n",
    "6단계 new_id의 길이가 16자 이상이면, new_id의 첫 15개의 문자를 제외한 나머지 문자들을 모두 제거합니다.\n",
    "     만약 제거 후 마침표(.)가 new_id의 끝에 위치한다면 끝에 위치한 마침표(.) 문자를 제거합니다.\n",
    "7단계 new_id의 길이가 2자 이하라면, new_id의 마지막 문자를 new_id의 길이가 3이 될 때까지 반복해서 끝에 붙입니다."
   ]
  },
  {
   "cell_type": "code",
   "execution_count": 39,
   "id": "2f558c86-dda7-4881-af1a-9753d74eea4f",
   "metadata": {},
   "outputs": [],
   "source": [
    "# 민주 최종 제출 답안\n",
    "\n",
    "import re\n",
    "\n",
    "def solution(new_id):\n",
    "    new_id = new_id.lower()\n",
    "    new_id = re.sub('[^a-z0-9-_.]','',new_id)\n",
    "    new_id = re.sub('\\.{2,}','.',new_id)\n",
    "    if (new_id[0] == '.'):\n",
    "        new_id = new_id[1:]\n",
    "    print(new_id)\n",
    "    if (len(new_id) > 0 and new_id[-1] == '.'):\n",
    "        new_id = new_id[:-1]\n",
    "    if len(new_id) == 0:\n",
    "        new_id = \"a\"    \n",
    "    if len(new_id) >= 16:\n",
    "        new_id = new_id[:15]\n",
    "        if new_id[-1] == '.':\n",
    "            new_id = new_id[:14]\n",
    "    if len(new_id) == 1:\n",
    "        new_id *= 3\n",
    "    if len(new_id) == 2:\n",
    "        new_id += new_id[-1]\n",
    "    return new_id"
   ]
  },
  {
   "cell_type": "code",
   "execution_count": null,
   "id": "ea644401-b7a2-41d9-9dfb-94c6e769359a",
   "metadata": {},
   "outputs": [],
   "source": []
  }
 ],
 "metadata": {
  "kernelspec": {
   "display_name": "Python 3",
   "language": "python",
   "name": "python3"
  },
  "language_info": {
   "codemirror_mode": {
    "name": "ipython",
    "version": 3
   },
   "file_extension": ".py",
   "mimetype": "text/x-python",
   "name": "python",
   "nbconvert_exporter": "python",
   "pygments_lexer": "ipython3",
   "version": "3.8.5"
  }
 },
 "nbformat": 4,
 "nbformat_minor": 5
}
